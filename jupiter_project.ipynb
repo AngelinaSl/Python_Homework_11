{
 "cells": [
  {
   "cell_type": "markdown",
   "id": "40b47f79",
   "metadata": {},
   "source": [
    "## f(x) = 0.6x^3+5.5x^2+10x -5\n",
    "\n",
    "Определить корни\n",
    "\n",
    "Найти интервалы, на которых функция возрастает\n",
    "\n",
    "Найти интервалы, на которых функция убывает\n",
    "\n",
    "Построить график\n",
    "\n",
    "Вычислить вершину\n",
    "\n",
    "Определить промежутки, на котором f > 0\n",
    "\n",
    "Определить промежутки, на котором f < 0"
   ]
  },
  {
   "cell_type": "code",
   "execution_count": 2,
   "id": "af670ae6",
   "metadata": {},
   "outputs": [
    {
     "name": "stdout",
     "output_type": "stream",
     "text": [
      "Requirement already satisfied: sympy in c:\\users\\79274\\anaconda3\\lib\\site-packages (1.10.1)\n",
      "Requirement already satisfied: mpmath>=0.19 in c:\\users\\79274\\anaconda3\\lib\\site-packages (from sympy) (1.2.1)\n"
     ]
    }
   ],
   "source": [
    "!pip install sympy"
   ]
  },
  {
   "cell_type": "code",
   "execution_count": 1,
   "id": "bf4aeb0a",
   "metadata": {},
   "outputs": [
    {
     "ename": "ModuleNotFoundError",
     "evalue": "No module named 'sympy'",
     "output_type": "error",
     "traceback": [
      "\u001b[1;31m---------------------------------------------------------------------------\u001b[0m",
      "\u001b[1;31mModuleNotFoundError\u001b[0m                       Traceback (most recent call last)",
      "Cell \u001b[1;32mIn[1], line 1\u001b[0m\n\u001b[1;32m----> 1\u001b[0m \u001b[39mfrom\u001b[39;00m \u001b[39msympy\u001b[39;00m \u001b[39mimport\u001b[39;00m \u001b[39m*\u001b[39m\n\u001b[0;32m      2\u001b[0m \u001b[39mfrom\u001b[39;00m \u001b[39msympy\u001b[39;00m\u001b[39m.\u001b[39;00m\u001b[39mplotting\u001b[39;00m \u001b[39mimport\u001b[39;00m plot\n\u001b[0;32m      3\u001b[0m \u001b[39mimport\u001b[39;00m \u001b[39mmatplotlib\u001b[39;00m\n",
      "\u001b[1;31mModuleNotFoundError\u001b[0m: No module named 'sympy'"
     ]
    }
   ],
   "source": [
    "from sympy import *\n",
    "from sympy.plotting import plot\n",
    "import matplotlib\n",
    "\n",
    "x = Symbol('x')\n",
    "f = 0.6*(x**3) + 5.5*(x**2) + 10*x -5\n",
    "x1, x2, x3 = solve(f, x)\n",
    "print(\"f = 0.6*(x**3) + 5.5*(x**2) + 10*x -5\")\n",
    "print(f\"x1 = {round(x1, 3)}\")\n",
    "print(f\"x2 = {round(x2, 3)}\")\n",
    "print(f\"x3 = {round(x3, 3)}\")\n",
    "plot(f)"
   ]
  },
  {
   "cell_type": "code",
   "execution_count": 67,
   "id": "1e02855e",
   "metadata": {},
   "outputs": [
    {
     "name": "stdout",
     "output_type": "stream",
     "text": [
      "Вершина функции: [-5.0, 7.5]\n",
      "Вершина функции: [-1.111, -10.144]\n",
      "Функция возрастает на интервалах (-∞, -5.0) и (-1.11, +∞)\n",
      "Функция убывает на промежутке: (-5.0, -1.11)\n"
     ]
    }
   ],
   "source": [
    "\n",
    "\n",
    "def extremums (func, argument):\n",
    "    d = diff(func, argument)\n",
    "    extremum = solve(d, argument)\n",
    "    b = '\\u221E'\n",
    "    for ex in extremum:\n",
    "        print(f\"Вершина функции: [{round(float(ex),3)}, {round(float(func.subs(argument, ex)),3)}]\")\n",
    "    ex1, ex2 = [float(ex) for ex in extremum]\n",
    "\n",
    "    print(f\"Функция возрастает на интервалах (-{b}, {ex1}) и ({round(ex2, 2)}, +{b})\")\n",
    "    print(f\"Функция убывает на промежутке: ({ex1}, {round(ex2, 2)})\")\n",
    "\n",
    "extremums(f, x)"
   ]
  },
  {
   "cell_type": "code",
   "execution_count": 57,
   "id": "a17b18a8",
   "metadata": {},
   "outputs": [
    {
     "name": "stdout",
     "output_type": "stream",
     "text": [
      "Функция положительна на промежутках: (-6.322, -3.250) и (0.406, +∞)\n",
      "Функция отрицательна на промежутках: (-∞, -6.322) и (-3.250, 0.406)\n"
     ]
    }
   ],
   "source": [
    "b = '\\u221E'\n",
    "print(f\"Функция положительна на промежутках: ({round(x1, 3)}, {round(x2, 3)}) и ({round(x3, 3)}, +{b})\")\n",
    "print(f\"Функция отрицательна на промежутках: (-{b}, {round(x1, 3)}) и ({round(x2, 3)}, {round(x3, 3)})\")"
   ]
  },
  {
   "cell_type": "code",
   "execution_count": 68,
   "id": "b3e51312",
   "metadata": {},
   "outputs": [
    {
     "name": "stderr",
     "output_type": "stream",
     "text": [
      "fatal: not a git repository (or any of the parent directories): .git\n"
     ]
    }
   ],
   "source": [
    "!git add *"
   ]
  },
  {
   "cell_type": "code",
   "execution_count": 69,
   "id": "6989808e",
   "metadata": {},
   "outputs": [
    {
     "name": "stdout",
     "output_type": "stream",
     "text": [
      "Initialized empty Git repository in C:/Users/79274/Desktop/Р”РѕРјР°С€РЅРµРµ Р·Р°РґР°РЅРёРµ/.git/\n"
     ]
    }
   ],
   "source": [
    "!git init"
   ]
  },
  {
   "cell_type": "code",
   "execution_count": 70,
   "id": "1a9a2067",
   "metadata": {},
   "outputs": [
    {
     "name": "stderr",
     "output_type": "stream",
     "text": [
      "warning: in the working copy of '.ipynb_checkpoints/intro-checkpoint.ipynb', LF will be replaced by CRLF the next time Git touches it\n",
      "warning: in the working copy of '.ipynb_checkpoints/jupiter_project-checkpoint.ipynb', LF will be replaced by CRLF the next time Git touches it\n",
      "warning: in the working copy of '.ipynb_checkpoints/Р›РµРєС†РёСЏ 6. Jupiter Intro-checkpoint.ipynb', LF will be replaced by CRLF the next time Git touches it\n",
      "warning: in the working copy of 'intro.ipynb', LF will be replaced by CRLF the next time Git touches it\n",
      "warning: in the working copy of 'jupiter_project.ipynb', LF will be replaced by CRLF the next time Git touches it\n",
      "warning: in the working copy of 'Р›РµРєС†РёСЏ 6. Jupiter Intro.ipynb', LF will be replaced by CRLF the next time Git touches it\n"
     ]
    }
   ],
   "source": []
  },
  {
   "cell_type": "code",
   "execution_count": null,
   "id": "9c00b712",
   "metadata": {},
   "outputs": [],
   "source": []
  }
 ],
 "metadata": {
  "kernelspec": {
   "display_name": "Python 3 (ipykernel)",
   "language": "python",
   "name": "python3"
  },
  "language_info": {
   "codemirror_mode": {
    "name": "ipython",
    "version": 3
   },
   "file_extension": ".py",
   "mimetype": "text/x-python",
   "name": "python",
   "nbconvert_exporter": "python",
   "pygments_lexer": "ipython3",
   "version": "3.9.13"
  },
  "vscode": {
   "interpreter": {
    "hash": "3665abc3d3def4fdfdd165d2f8625c78006fa8b8af5ddf849d4718610d392841"
   }
  }
 },
 "nbformat": 4,
 "nbformat_minor": 5
}
